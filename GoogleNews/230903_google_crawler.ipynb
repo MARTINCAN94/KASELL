{
 "cells": [
  {
   "cell_type": "code",
   "execution_count": 10,
   "id": "071e9fde",
   "metadata": {},
   "outputs": [],
   "source": [
    "from selenium import webdriver\n",
    "from selenium.webdriver.common.by import By\n",
    "from selenium.webdriver.common.alert import Alert\n",
    "from selenium.webdriver.chrome.options import Options\n",
    "from selenium.webdriver.chrome.service import Service\n",
    "from selenium.webdriver.common.keys import Keys\n",
    "from selenium.webdriver.common.action_chains import ActionChains\n",
    "from webdriver_manager.chrome import ChromeDriverManager\n",
    "\n",
    "from tqdm import tqdm \n",
    "from openpyxl import load_workbook, Workbook\n",
    "import configparser\n",
    "from urllib import parse\n",
    "import json\n",
    "import random\n",
    "from urllib.parse import unquote\n",
    "import os\n",
    "import time\n",
    "from bs4 import BeautifulSoup\n",
    "import requests\n",
    "requests.packages.urllib3.util.ssl_.DEFAULT_CIPHERS += 'HIGH:!DH:!aNULL'\n",
    "try:\n",
    "    requests.packages.urllib3.contrib.pyopenssl.DEFAULT_SSL_CIPHER_LIST += 'HIGH:!DH:!aNULL'\n",
    "except AttributeError:\n",
    "    # no pyopenssl support used / needed / available\n",
    "    pass\n",
    "\n",
    "def get_driver():\n",
    "\n",
    "    options = webdriver.ChromeOptions()\n",
    "    options.add_argument(\"disable-gpu\")\n",
    "    options.add_experimental_option(\"excludeSwitches\", [\"enable-logging\"])\n",
    "    \n",
    "    #driver = webdriver.Chrome()\n",
    "    driver = webdriver.Chrome(service=Service(ChromeDriverManager().install()), options=options)\n",
    "    \n",
    "    return driver\n",
    "\n",
    "\n",
    "def save_excel(_FILENAME, _DATA, _HEADER):\n",
    "    if _HEADER == None:\n",
    "        print(\">>> 헤더 리스트를 먼저 넣어주세요\")\n",
    "        return None\n",
    "    book = Workbook()\n",
    "    sheet = book.active\n",
    "    sheet.title = 'result'\n",
    "    sheet.append(_HEADER)\n",
    "    for d in _DATA:\n",
    "        sheet.append(d)\n",
    "    #sheet.column_dimensions['A'].width = 40\n",
    "    book.save(_FILENAME)"
   ]
  },
  {
   "cell_type": "markdown",
   "id": "1e3aaa47",
   "metadata": {},
   "source": [
    "# 환경설정부분(AREA 부분만수정)"
   ]
  },
  {
   "cell_type": "code",
   "execution_count": 11,
   "id": "2e435e0b",
   "metadata": {},
   "outputs": [],
   "source": [
    "#===== CONFIG AREA START\n",
    "KEYWORD = 'virtual influencer'\n",
    "MAX_PAGE = 5\n",
    "SAVE_FILE = '테스트230909.xlsx'\n",
    "#===== CONFIG AREA END\n",
    "driver = get_driver()\n",
    "driver.get('https://www.google.com/search?newwindow=1&sca_esv=562316449&hl=ko&sxsrf=AB5stBh2NdA1gK4MOl0NyORpX-whxoGxjA:1693734336307&q=.&tbm=nws&source=lnms&sa=X&ved=2ahUKEwir_dWLlI6BAxV3s1YBHTB-Cl8Q0pQJegQICRAB&biw=1452&bih=917&dpr=1')"
   ]
  },
  {
   "cell_type": "markdown",
   "id": "70c8d599",
   "metadata": {},
   "source": [
    "# 코드실행부분"
   ]
  },
  {
   "cell_type": "code",
   "execution_count": 12,
   "id": "446583f5",
   "metadata": {},
   "outputs": [
    {
     "name": "stdout",
     "output_type": "stream",
     "text": [
      ">>> 검색 시작\n"
     ]
    },
    {
     "name": "stderr",
     "output_type": "stream",
     "text": [
      "100%|████████████████████████████████████████████████████████████████████████████████████| 5/5 [00:12<00:00,  2.46s/it]\n"
     ]
    },
    {
     "name": "stdout",
     "output_type": "stream",
     "text": [
      ">>> 기사 수집 시작\n"
     ]
    },
    {
     "name": "stderr",
     "output_type": "stream",
     "text": [
      "100%|██████████████████████████████████████████████████████████████████████████████████| 50/50 [00:54<00:00,  1.09s/it]"
     ]
    },
    {
     "name": "stdout",
     "output_type": "stream",
     "text": [
      ">>> 저장 시작\n",
      "./datas/virtual influencer/테스트230909.xlsx 저장완료\n"
     ]
    },
    {
     "name": "stderr",
     "output_type": "stream",
     "text": [
      "\n"
     ]
    }
   ],
   "source": [
    "\"\"\"검색하는 부분 \"\"\"\n",
    "search_el = driver.find_element(By.XPATH, '//*[@id=\"APjFqb\"]')\n",
    "search_el.clear()\n",
    "search_el.send_keys(KEYWORD+'\\n')\n",
    "time.sleep(3)\n",
    "\n",
    "\"\"\"수집부분\"\"\"\n",
    "print(\">>> 검색 시작\")\n",
    "link_list = []\n",
    "# 첫페이지 수집 후 \n",
    "bs = BeautifulSoup(driver.page_source, 'lxml')\n",
    "div = bs.find('div', id='rso')\n",
    "for a in div.find_all('a'):\n",
    "    link_list.append(a['href'])\n",
    "\n",
    "# 2페이지부터 수집 \n",
    "for page_idx in tqdm(range(MAX_PAGE)):\n",
    "    if page_idx == 0:\n",
    "        continue # 첫페이지는 파밍완료\n",
    "    # 넘어가기 \n",
    "    try:\n",
    "        next_el = driver.find_element(By.XPATH, '//*[@id=\"pnnext\"]/span[2]')\n",
    "    except: # 다음버튼을 못 누르는 경우 \n",
    "        break\n",
    "    next_el.click()\n",
    "    time.sleep(2)\n",
    "    \n",
    "    # 현재페이지 수집\n",
    "    bs = BeautifulSoup(driver.page_source, 'lxml')\n",
    "    div = bs.find('div', id='rso')\n",
    "    for a in div.find_all('a'):\n",
    "        link_list.append(a['href'])\n",
    "        \n",
    "\"\"\"수집한 링크들 방문하여 기사본문들 수거\"\"\"\n",
    "print(\">>> 기사 수집 시작\")\n",
    "본문리스트 = [] \n",
    "headers = {\n",
    "    'User-Agent' : 'Mozilla/5.0 (Windows NT 10.0; Win64; x64) AppleWebKit/537.36 (KHTML, like Gecko) Chrome/116.0.0.0 Safari/537.36'\n",
    "}\n",
    "for link in tqdm(link_list):\n",
    "    resp = requests.get(link, headers=headers)\n",
    "    bs = BeautifulSoup(resp.text, 'lxml')\n",
    "    본문 = bs.body.text.strip().replace('\\n\\n',' ')\n",
    "    본문리스트.append(본문)\n",
    "    \n",
    "\"\"\"저장\"\"\"\n",
    "print(\">>> 저장 시작\")\n",
    "os.makedirs(f\"./datas/{KEYWORD}\", exist_ok=True)\n",
    "data_list = [] \n",
    "\n",
    "for idx in range(len(link_list)):\n",
    "    with open(f'./datas/{KEYWORD}/{idx}.txt', 'w', encoding='utf-8') as f:\n",
    "        f.write(본문리스트[idx])\n",
    "    data_list.append([f\"{idx}.txt\", KEYWORD, link_list[idx]])\n",
    "save_excel(f\"./datas/{KEYWORD}/{SAVE_FILE}\", data_list, ['파일명', '키워드', 'URL'])\n",
    "print(f\"./datas/{KEYWORD}/{SAVE_FILE} 저장완료\")"
   ]
  },
  {
   "cell_type": "code",
   "execution_count": null,
   "id": "7cd8735a",
   "metadata": {},
   "outputs": [],
   "source": []
  }
 ],
 "metadata": {
  "kernelspec": {
   "display_name": "Python 3 (ipykernel)",
   "language": "python",
   "name": "python3"
  },
  "language_info": {
   "codemirror_mode": {
    "name": "ipython",
    "version": 3
   },
   "file_extension": ".py",
   "mimetype": "text/x-python",
   "name": "python",
   "nbconvert_exporter": "python",
   "pygments_lexer": "ipython3",
   "version": "3.10.5"
  }
 },
 "nbformat": 4,
 "nbformat_minor": 5
}
