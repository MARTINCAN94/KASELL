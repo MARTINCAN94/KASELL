{
 "cells": [
  {
   "cell_type": "code",
   "execution_count": 8,
   "id": "5e6c871d",
   "metadata": {},
   "outputs": [
    {
     "name": "stdout",
     "output_type": "stream",
     "text": [
      "Requirement already satisfied: youtube-transcript-api in c:\\users\\wkm31\\appdata\\local\\programs\\python\\python310\\lib\\site-packages (0.6.1)Note: you may need to restart the kernel to use updated packages.\n"
     ]
    },
    {
     "name": "stderr",
     "output_type": "stream",
     "text": [
      "WARNING: You are using pip version 22.0.4; however, version 23.2.1 is available.\n",
      "You should consider upgrading via the 'C:\\Users\\wkm31\\AppData\\Local\\Programs\\Python\\Python310\\python.exe -m pip install --upgrade pip' command.\n"
     ]
    },
    {
     "name": "stdout",
     "output_type": "stream",
     "text": [
      "\n",
      "Requirement already satisfied: requests in c:\\users\\wkm31\\appdata\\local\\programs\\python\\python310\\lib\\site-packages (from youtube-transcript-api) (2.28.1)\n",
      "Requirement already satisfied: idna<4,>=2.5 in c:\\users\\wkm31\\appdata\\local\\programs\\python\\python310\\lib\\site-packages (from requests->youtube-transcript-api) (3.3)\n",
      "Requirement already satisfied: certifi>=2017.4.17 in c:\\users\\wkm31\\appdata\\local\\programs\\python\\python310\\lib\\site-packages (from requests->youtube-transcript-api) (2022.6.15)\n",
      "Requirement already satisfied: charset-normalizer<3,>=2 in c:\\users\\wkm31\\appdata\\local\\programs\\python\\python310\\lib\\site-packages (from requests->youtube-transcript-api) (2.1.0)\n",
      "Requirement already satisfied: urllib3<1.27,>=1.21.1 in c:\\users\\wkm31\\appdata\\local\\programs\\python\\python310\\lib\\site-packages (from requests->youtube-transcript-api) (1.26.10)\n"
     ]
    }
   ],
   "source": [
    "%pip install youtube-transcript-api"
   ]
  },
  {
   "cell_type": "code",
   "execution_count": 9,
   "id": "1bf76a21",
   "metadata": {},
   "outputs": [
    {
     "name": "stdout",
     "output_type": "stream",
     "text": [
      "Requirement already satisfied: youtube-search-python in c:\\users\\wkm31\\appdata\\local\\programs\\python\\python310\\lib\\site-packages (1.6.6)Note: you may need to restart the kernel to use updated packages.\n",
      "\n",
      "Requirement already satisfied: httpx>=0.14.2 in c:\\users\\wkm31\\appdata\\local\\programs\\python\\python310\\lib\\site-packages (from youtube-search-python) (0.24.1)\n",
      "Requirement already satisfied: sniffio in c:\\users\\wkm31\\appdata\\local\\programs\\python\\python310\\lib\\site-packages (from httpx>=0.14.2->youtube-search-python) (1.2.0)\n",
      "Requirement already satisfied: idna in c:\\users\\wkm31\\appdata\\local\\programs\\python\\python310\\lib\\site-packages (from httpx>=0.14.2->youtube-search-python) (3.3)\n",
      "Requirement already satisfied: httpcore<0.18.0,>=0.15.0 in c:\\users\\wkm31\\appdata\\local\\programs\\python\\python310\\lib\\site-packages (from httpx>=0.14.2->youtube-search-python) (0.17.3)\n",
      "Requirement already satisfied: certifi in c:\\users\\wkm31\\appdata\\local\\programs\\python\\python310\\lib\\site-packages (from httpx>=0.14.2->youtube-search-python) (2022.6.15)\n",
      "Requirement already satisfied: anyio<5.0,>=3.0 in c:\\users\\wkm31\\appdata\\local\\programs\\python\\python310\\lib\\site-packages (from httpcore<0.18.0,>=0.15.0->httpx>=0.14.2->youtube-search-python) (3.7.1)\n",
      "Requirement already satisfied: h11<0.15,>=0.13 in c:\\users\\wkm31\\appdata\\local\\programs\\python\\python310\\lib\\site-packages (from httpcore<0.18.0,>=0.15.0->httpx>=0.14.2->youtube-search-python) (0.13.0)\n",
      "Requirement already satisfied: exceptiongroup in c:\\users\\wkm31\\appdata\\local\\programs\\python\\python310\\lib\\site-packages (from anyio<5.0,>=3.0->httpcore<0.18.0,>=0.15.0->httpx>=0.14.2->youtube-search-python) (1.1.3)\n"
     ]
    },
    {
     "name": "stderr",
     "output_type": "stream",
     "text": [
      "WARNING: You are using pip version 22.0.4; however, version 23.2.1 is available.\n",
      "You should consider upgrading via the 'C:\\Users\\wkm31\\AppData\\Local\\Programs\\Python\\Python310\\python.exe -m pip install --upgrade pip' command.\n"
     ]
    }
   ],
   "source": [
    "%pip install youtube-search-python"
   ]
  },
  {
   "cell_type": "code",
   "execution_count": 10,
   "id": "2117c528",
   "metadata": {},
   "outputs": [],
   "source": [
    "from youtubesearchpython import VideosSearch\n",
    "\n",
    "videosSearch = VideosSearch('AI influencer', limit = 100)\n",
    "search_result = videosSearch.result()\n"
   ]
  },
  {
   "cell_type": "code",
   "execution_count": 11,
   "id": "9c23c924",
   "metadata": {},
   "outputs": [
    {
     "name": "stdout",
     "output_type": "stream",
     "text": [
      "20\n"
     ]
    }
   ],
   "source": [
    "youtube_id_list = []\n",
    "for r in search_result['result']:\n",
    "    youtube_id_list.append(r['id'])\n",
    "print(len(youtube_id_list))"
   ]
  },
  {
   "cell_type": "markdown",
   "id": "1a6d7402",
   "metadata": {},
   "source": [
    "# 여러개 자막가져오기"
   ]
  },
  {
   "cell_type": "code",
   "execution_count": 12,
   "id": "218173a2",
   "metadata": {},
   "outputs": [
    {
     "name": "stderr",
     "output_type": "stream",
     "text": [
      "100%|██████████████████████████████████████████████████████████████████████████████████| 20/20 [00:22<00:00,  1.12s/it]\n"
     ]
    }
   ],
   "source": [
    "from youtube_transcript_api import YouTubeTranscriptApi\n",
    "from openpyxl import Workbook\n",
    "from tqdm import tqdm \n",
    "data_list = [] \n",
    "for youtube_id in tqdm(youtube_id_list):\n",
    "\n",
    "    try:\n",
    "        result = YouTubeTranscriptApi.get_transcript(youtube_id)\n",
    "    except:\n",
    "        continue\n",
    "\n",
    "    spread_text = \"\"\n",
    "    for line in result:\n",
    "        spread_text += line['text'].strip()\n",
    "    \n",
    "    data_list.append([youtube_id, spread_text])\n",
    "\n",
    "wb = Workbook()\n",
    "ws = wb.active\n",
    "\n",
    "ws.append(['YouTubeID','Subtitles'])\n",
    "for d in data_list:\n",
    "    ws.append([d[0], d[1]])\n",
    "\n",
    "wb.save('YouTube.xlsx')"
   ]
  },
  {
   "cell_type": "markdown",
   "id": "0278bd8e",
   "metadata": {},
   "source": [
    "# 단일버전 자막 가져오기"
   ]
  },
  {
   "cell_type": "code",
   "execution_count": 6,
   "id": "1be16b41",
   "metadata": {},
   "outputs": [],
   "source": [
    "youtube_id = \"KsukWAE5C_k\"\n",
    "\n",
    "# 내가원하는 유투브 ID 로 자막 가져오기 \n",
    "from youtube_transcript_api import YouTubeTranscriptApi\n",
    "\n",
    "result = YouTubeTranscriptApi.get_transcript(youtube_id)\n",
    "\n",
    "\n",
    "# 자막들을 가공해서 하나의 텍스트로 변환 \n",
    "spread_text = \"\"\n",
    "for line in result:\n",
    "    spread_text += line['text'].strip()\n",
    "\n",
    "# 저장\n",
    "# openpyxl 설치\n",
    "#%pip install openpyxl\n",
    "# 위의 spread_text 변수를 엑셀에 저장해보세요 \n",
    "from openpyxl import Workbook\n",
    "wb = Workbook()\n",
    "ws = wb.create_sheet(\"result\") # insert at the end (default)\n",
    "\n",
    "#ws['A1'] = 'A1테스트'\n",
    "#ws.append(['한','줄'])\n",
    "#ws.cell(row=3, column=3, value=10)\n",
    "ws.append(['유투브ID','자막'])\n",
    "ws.append([youtube_id, spread_text])\n",
    "\n",
    "wb.save('test.xlsx')"
   ]
  },
  {
   "cell_type": "code",
   "execution_count": null,
   "id": "783857d3",
   "metadata": {},
   "outputs": [],
   "source": []
  }
 ],
 "metadata": {
  "kernelspec": {
   "display_name": "Python 3 (ipykernel)",
   "language": "python",
   "name": "python3"
  },
  "language_info": {
   "codemirror_mode": {
    "name": "ipython",
    "version": 3
   },
   "file_extension": ".py",
   "mimetype": "text/x-python",
   "name": "python",
   "nbconvert_exporter": "python",
   "pygments_lexer": "ipython3",
   "version": "3.10.5"
  }
 },
 "nbformat": 4,
 "nbformat_minor": 5
}
